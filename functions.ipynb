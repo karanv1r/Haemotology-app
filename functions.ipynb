{
 "cells": [
  {
   "cell_type": "code",
   "execution_count": 5,
   "id": "cbaf251b",
   "metadata": {},
   "outputs": [],
   "source": [
    "import os\n",
    "import tensorflow\n",
    "import pandas as pd\n",
    "import numpy as np\n",
    "import seaborn as sns\n",
    "from tqdm import tqdm\n",
    "import matplotlib.pyplot as plt\n",
    "from tensorflow import keras\n",
    "from tensorflow.keras import layers\n",
    "from matplotlib.image import imread\n",
    "from tensorflow.keras.preprocessing.image import ImageDataGenerator\n",
    "from tensorflow.keras.models import Sequential\n",
    "from tensorflow.keras.layers import Dropout, Flatten, Dense, Conv2D, MaxPooling2D\n",
    "from tensorflow.keras.callbacks import EarlyStopping\n",
    "from tensorflow.keras.preprocessing import image\n",
    "from sklearn.metrics import classification_report, confusion_matrix\n",
    "import tensorflow_hub as hub"
   ]
  },
  {
   "cell_type": "code",
   "execution_count": null,
   "id": "74803b01",
   "metadata": {},
   "outputs": [],
   "source": []
  },
  {
   "cell_type": "code",
   "execution_count": null,
   "id": "a63495af",
   "metadata": {},
   "outputs": [],
   "source": []
  },
  {
   "cell_type": "code",
   "execution_count": 6,
   "id": "2c20ce8f",
   "metadata": {},
   "outputs": [],
   "source": [
    "def testmalaria(img):\n",
    "    malaria_model = tensorflow.keras.models.load_model(\"./models/malaria.h5\")\n",
    "    image_shape = (130,130,3)\n",
    "    new_image = tensorflow.keras.preprocessing.image.load_img(img, target_size=image_shape)\n",
    "    new_image = image.img_to_array(new_image)\n",
    "    new_image = np.expand_dims(new_image, axis=0)\n",
    "    result = malaria_model.predict(new_image)\n",
    "    if(result[0]):\n",
    "        return \"positive for malaria\"\n",
    "    else:\n",
    "        return \"negative for malaria\"\n",
    "    "
   ]
  },
  {
   "cell_type": "code",
   "execution_count": null,
   "id": "5c73513e",
   "metadata": {},
   "outputs": [],
   "source": [
    "\n"
   ]
  },
  {
   "cell_type": "code",
   "execution_count": null,
   "id": "80140c05",
   "metadata": {},
   "outputs": [],
   "source": []
  },
  {
   "cell_type": "code",
   "execution_count": 7,
   "id": "307ead98",
   "metadata": {},
   "outputs": [],
   "source": [
    "def testcancer(img1):\n",
    "    IMG_SIZE = 128\n",
    "    img1 = tensorflow.reshape(img1, [])\n",
    "    img = tensorflow.io.read_file(img1)\n",
    "    img = tensorflow.io.decode_bmp(img, channels=3)\n",
    "    print(img)\n",
    "    img = tensorflow.image.resize(img, [IMG_SIZE,IMG_SIZE])\n",
    "    img = np.expand_dims(img, axis=0)\n",
    "    cancer_model = tensorflow.keras.models.load_model(('./models/cancer.h5'),custom_objects={'KerasLayer':hub.KerasLayer})\n",
    "    prediction = cancer_model.predict(img)\n",
    "    print(prediction)\n",
    "    prediction = np.argmax(prediction,axis=1)\n",
    "    if (prediction == 0):\n",
    "        result = \"positive for blood cancer (acute lymphocytic leukaemia)\"\n",
    "        return result\n",
    "    else:\n",
    "        result = \"negative for blood cancer (acute lymphocytic leukaemia)\"\n",
    "        return result"
   ]
  },
  {
   "cell_type": "code",
   "execution_count": 8,
   "id": "56dd7e4d",
   "metadata": {},
   "outputs": [],
   "source": [
    "img = \"./3.bmp\""
   ]
  },
  {
   "cell_type": "code",
   "execution_count": 9,
   "id": "26eda5c5",
   "metadata": {},
   "outputs": [
    {
     "name": "stdout",
     "output_type": "stream",
     "text": [
      "tf.Tensor(\n",
      "[[[0 0 0]\n",
      "  [0 0 0]\n",
      "  [0 0 0]\n",
      "  ...\n",
      "  [0 0 0]\n",
      "  [0 0 0]\n",
      "  [0 0 0]]\n",
      "\n",
      " [[0 0 0]\n",
      "  [0 0 0]\n",
      "  [0 0 0]\n",
      "  ...\n",
      "  [0 0 0]\n",
      "  [0 0 0]\n",
      "  [0 0 0]]\n",
      "\n",
      " [[0 0 0]\n",
      "  [0 0 0]\n",
      "  [0 0 0]\n",
      "  ...\n",
      "  [0 0 0]\n",
      "  [0 0 0]\n",
      "  [0 0 0]]\n",
      "\n",
      " ...\n",
      "\n",
      " [[0 0 0]\n",
      "  [0 0 0]\n",
      "  [0 0 0]\n",
      "  ...\n",
      "  [0 0 0]\n",
      "  [0 0 0]\n",
      "  [0 0 0]]\n",
      "\n",
      " [[0 0 0]\n",
      "  [0 0 0]\n",
      "  [0 0 0]\n",
      "  ...\n",
      "  [0 0 0]\n",
      "  [0 0 0]\n",
      "  [0 0 0]]\n",
      "\n",
      " [[0 0 0]\n",
      "  [0 0 0]\n",
      "  [0 0 0]\n",
      "  ...\n",
      "  [0 0 0]\n",
      "  [0 0 0]\n",
      "  [0 0 0]]], shape=(450, 450, 3), dtype=uint8)\n",
      "[[0. 1.]]\n"
     ]
    },
    {
     "data": {
      "text/plain": [
       "'negative for blood cancer (acute lymphocytic leukaemia)'"
      ]
     },
     "execution_count": 9,
     "metadata": {},
     "output_type": "execute_result"
    }
   ],
   "source": [
    "testcancer(img)"
   ]
  },
  {
   "cell_type": "code",
   "execution_count": null,
   "id": "96c3e80a",
   "metadata": {},
   "outputs": [],
   "source": []
  }
 ],
 "metadata": {
  "kernelspec": {
   "display_name": "Python 3",
   "language": "python",
   "name": "python3"
  },
  "language_info": {
   "codemirror_mode": {
    "name": "ipython",
    "version": 3
   },
   "file_extension": ".py",
   "mimetype": "text/x-python",
   "name": "python",
   "nbconvert_exporter": "python",
   "pygments_lexer": "ipython3",
   "version": "3.8.8"
  }
 },
 "nbformat": 4,
 "nbformat_minor": 5
}
