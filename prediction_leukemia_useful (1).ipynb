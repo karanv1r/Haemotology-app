{
 "cells": [
  {
   "cell_type": "code",
   "execution_count": null,
   "metadata": {
    "colab": {
     "base_uri": "https://localhost:8080/"
    },
    "id": "fIKL0LDaGbno",
    "outputId": "8bd278c2-6e65-41cd-c619-e02c3e446f48"
   },
   "outputs": [],
   "source": []
  },
  {
   "cell_type": "code",
   "execution_count": 10,
   "metadata": {
    "id": "KbKo7eGI_yse"
   },
   "outputs": [],
   "source": [
    "# data analysis\n",
    "import numpy as np\n",
    "import pandas as pd\n",
    "\n",
    "# data visualization\n",
    "import matplotlib.pyplot as plt\n",
    "import seaborn as sns\n",
    "\n",
    "# utilities\n",
    "import os\n",
    "from tqdm import tqdm\n",
    "\n",
    "# machine learning libraries\n",
    "import tensorflow as tf\n",
    "from tensorflow import keras\n",
    "from tensorflow.keras import layers\n",
    "from tensorflow.keras.models import Sequential\n",
    "import tensorflow_hub as hub"
   ]
  },
  {
   "cell_type": "code",
   "execution_count": 81,
   "metadata": {
    "id": "uTk2kaeB_1yj"
   },
   "outputs": [],
   "source": []
  },
  {
   "cell_type": "code",
   "execution_count": null,
   "metadata": {},
   "outputs": [],
   "source": []
  },
  {
   "cell_type": "code",
   "execution_count": null,
   "metadata": {},
   "outputs": [],
   "source": []
  },
  {
   "cell_type": "code",
   "execution_count": 82,
   "metadata": {
    "id": "cckAa9APEEda"
   },
   "outputs": [],
   "source": []
  },
  {
   "cell_type": "code",
   "execution_count": 11,
   "metadata": {
    "id": "0t9pVNfu_5J6"
   },
   "outputs": [],
   "source": [
    "def process_image(image):\n",
    "    IMG_SIZE = 128\n",
    "    img = tf.io.read_file(image)\n",
    "    img = tf.io.decode_bmp(img, channels=3)\n",
    "    img = tf.image.resize(img, [IMG_SIZE,IMG_SIZE])\n",
    "    img = tf.cast(img, tf.float32) / 255.0\n",
    "    plt.imshow(img)\n",
    "    return img"
   ]
  },
  {
   "cell_type": "code",
   "execution_count": null,
   "metadata": {
    "id": "lbKGEaeDYge7"
   },
   "outputs": [],
   "source": []
  },
  {
   "cell_type": "code",
   "execution_count": null,
   "metadata": {
    "id": "sWseGMuDAXwO"
   },
   "outputs": [],
   "source": []
  },
  {
   "cell_type": "code",
   "execution_count": null,
   "metadata": {
    "id": "9AXeWjkYDDZt"
   },
   "outputs": [],
   "source": []
  },
  {
   "cell_type": "code",
   "execution_count": null,
   "metadata": {
    "id": "20O92HqXDOoX"
   },
   "outputs": [],
   "source": []
  },
  {
   "cell_type": "code",
   "execution_count": null,
   "metadata": {
    "colab": {
     "base_uri": "https://localhost:8080/"
    },
    "id": "ms7GkdXIDUgG",
    "outputId": "9c1828a0-1d24-45f6-c595-0d98bee726b8"
   },
   "outputs": [],
   "source": []
  },
  {
   "cell_type": "code",
   "execution_count": 12,
   "metadata": {
    "id": "zNApcBp5Eeqo"
   },
   "outputs": [],
   "source": [
    "def testcancer(path):\n",
    "    IMG_SIZE = 128\n",
    "    image = path\n",
    "    input_scalar = tf.reshape(image, [])\n",
    "    img = process_image(input_scalar)\n",
    "    image = np.expand_dims(img, axis=0)\n",
    "    print(image.shape)\n",
    "    new_model = tf.keras.models.load_model(('./models/cancer_detector.h5'),custom_objects={'KerasLayer':hub.KerasLayer})\n",
    "    prediction = new_model.predict(image)\n",
    "    prediction = np.argmax(prediction,axis=1)\n",
    "    if (prediction == 0):\n",
    "        return \"positive for acute lymphocytic luekemia\"\n",
    "    elif (prediction == 1):\n",
    "        return \"negative for acute lymphocytic luekemia\""
   ]
  },
  {
   "cell_type": "code",
   "execution_count": null,
   "metadata": {},
   "outputs": [],
   "source": []
  },
  {
   "cell_type": "code",
   "execution_count": null,
   "metadata": {},
   "outputs": [],
   "source": []
  }
 ],
 "metadata": {
  "colab": {
   "name": "prediction_leukemia_useful.ipynb",
   "provenance": []
  },
  "kernelspec": {
   "display_name": "Python 3",
   "language": "python",
   "name": "python3"
  },
  "language_info": {
   "codemirror_mode": {
    "name": "ipython",
    "version": 3
   },
   "file_extension": ".py",
   "mimetype": "text/x-python",
   "name": "python",
   "nbconvert_exporter": "python",
   "pygments_lexer": "ipython3",
   "version": "3.8.8"
  }
 },
 "nbformat": 4,
 "nbformat_minor": 1
}
