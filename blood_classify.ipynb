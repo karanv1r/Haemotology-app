{
 "cells": [
  {
   "cell_type": "code",
   "execution_count": 1,
   "metadata": {
    "_cell_guid": "79c7e3d0-c299-4dcb-8224-4455121ee9b0",
    "_uuid": "d629ff2d2480ee46fbb7e2d37f6b5fab8052498a",
    "id": "7znEtmFhSfY5"
   },
   "outputs": [],
   "source": [
    "import numpy as np\n",
    "import pandas as pd\n",
    "from scipy.spatial import distance as dist\n",
    "import matplotlib.pyplot as plt\n",
    "import os\n",
    "import cv2\n",
    "import seaborn as sns\n",
    "from tqdm import tqdm \n",
    "from sklearn.utils import shuffle\n",
    "from sklearn import decomposition\n",
    "from sklearn.model_selection import train_test_split\n",
    "from sklearn.metrics import accuracy_score, confusion_matrix\n",
    "import tensorflow as tf\n",
    "import keras\n",
    "from keras.applications.vgg16 import VGG16 \n",
    "from keras.preprocessing import image\n",
    "from keras.applications.vgg16 import preprocess_input\n",
    "from keras.models import Sequential, Model \n",
    "# from keras.applications import DenseNet201\n",
    "from keras.initializers import he_normal\n",
    "from keras.layers import Lambda, SeparableConv2D, BatchNormalization, Dropout, MaxPooling2D, Input, Dense, Conv2D, Activation, Flatten \n",
    "from keras.callbacks import EarlyStopping, ReduceLROnPlateau, ModelCheckpoint\n",
    "import imutils\n"
   ]
  },
  {
   "cell_type": "code",
   "execution_count": 2,
   "metadata": {
    "id": "ug6Up9QXSfY7"
   },
   "outputs": [],
   "source": [
    "def findEdges(image):\n",
    "    # find edges in image\n",
    "    gray = cv2.GaussianBlur(image, (1, 1), 0)\n",
    "    edged = cv2.Canny(gray, 100, 400)\n",
    "    edged = cv2.dilate(edged, None, iterations=1)\n",
    "    edged = cv2.erode(edged, None, iterations=1)\n",
    "    return edged\n"
   ]
  },
  {
   "cell_type": "code",
   "execution_count": 3,
   "metadata": {
    "id": "Cc6_SZ1SSfY8"
   },
   "outputs": [],
   "source": [
    "def getImgContours(edged):\n",
    "    # find contours in the edge map\n",
    "    contours = cv2.findContours(edged.copy(), cv2.RETR_EXTERNAL, cv2.CHAIN_APPROX_SIMPLE)\n",
    "    contours = imutils.grab_contours(contours)\n",
    "    contours = sorted(contours, key=lambda x: cv2.contourArea(x))\n",
    "    return contours"
   ]
  },
  {
   "cell_type": "code",
   "execution_count": 4,
   "metadata": {
    "id": "PUz8Z9waSfY9"
   },
   "outputs": [],
   "source": [
    "def getBoxes(contours, orig):\n",
    "    # get the boxes\n",
    "    boxes = []\n",
    "    centers = []\n",
    "    for contour in contours:\n",
    "        box = cv2.minAreaRect(contour)\n",
    "        box = cv2.cv.BoxPoints(box) if imutils.is_cv2() else cv2.boxPoints(box)\n",
    "        box = np.array(box, dtype=\"int\")\n",
    "        (tl, tr, br, bl) = box\n",
    "        if (dist.euclidean(tl, bl)) > 0 and (dist.euclidean(tl, tr)) > 0:\n",
    "            boxes.append(box)\n",
    "    return boxes"
   ]
  },
  {
   "cell_type": "code",
   "execution_count": null,
   "metadata": {
    "colab": {
     "base_uri": "https://localhost:8080/"
    },
    "id": "r16pCcam63PG",
    "outputId": "869dded0-47e0-43bd-cdc7-0fd5ef6f7bf9"
   },
   "outputs": [],
   "source": []
  },
  {
   "cell_type": "code",
   "execution_count": 50,
   "metadata": {
    "id": "6n3w-l4A7Z4G"
   },
   "outputs": [],
   "source": []
  },
  {
   "cell_type": "code",
   "execution_count": 6,
   "metadata": {},
   "outputs": [],
   "source": [
    "def classify(path):\n",
    "        # Open \n",
    "    image_size = (120,120)\n",
    "    image = cv2.imread(path)\n",
    "    image = cv2.cvtColor(image, cv2.COLOR_BGR2RGB)\n",
    "\n",
    "    # add padding to the image to better detect cell at the edge\n",
    "    image = cv2.copyMakeBorder(image,10,10,10,10,cv2.BORDER_CONSTANT,value=[198, 203, 208])\n",
    "\n",
    "    #thresholding the image to get the target cell\n",
    "    image1 = cv2.inRange(image,(80, 80, 180),(180, 170, 245))\n",
    "\n",
    "    # openning errosion then dilation\n",
    "    kernel = np.ones((3, 3), np.uint8)\n",
    "    kernel1 = np.ones((5, 5), np.uint8)\n",
    "    img_erosion = cv2.erode(image1, kernel, iterations=2)\n",
    "    image1 = cv2.dilate(img_erosion, kernel1, iterations=5)\n",
    "\n",
    "    #detecting the blood cell\n",
    "    edgedImage = findEdges(image1)\n",
    "    edgedContours = getImgContours(edgedImage)\n",
    "    edgedBoxes =  getBoxes(edgedContours, image.copy())\n",
    "\n",
    "    # get the large box and get its cordinate\n",
    "    last = edgedBoxes[-1]\n",
    "    max_x = int(max(last[:,0]))\n",
    "    min_x = int( min(last[:,0]))\n",
    "    max_y = int(max(last[:,1]))\n",
    "    min_y = int(min(last[:,1]))\n",
    "\n",
    "    # draw the contour and fill it \n",
    "    mask = np.zeros_like(image)\n",
    "    cv2.drawContours(mask, edgedContours, len(edgedContours)-1, (255,255,255), -1) \n",
    "\n",
    "    # any pixel but the pixels inside the contour is zero\n",
    "    image[mask==0] = 0\n",
    "\n",
    "    # extract th blood cell\n",
    "    image = image[min_y:max_y, min_x:max_x]\n",
    "    # resize th image\n",
    "    image = cv2.resize(image, image_size)\n",
    "    image = image / 255.0 \n",
    "    plt.imshow(image)\n",
    "    plt.show()\n",
    "    new_model = tf.keras.models.load_model('./models/classify.h5')\n",
    "    image = np.expand_dims(image, axis=0)\n",
    "    prediction = new_model.predict(image)\n",
    "    print(prediction)\n",
    "    prediction = np.argmax(prediction,axis=1)\n",
    "    if(prediction == 0):\n",
    "        return \"eosinophil\"\n",
    "    elif (prediction == 1):\n",
    "        return \"lymphocyte\"\n",
    "    elif (prediction == 2):\n",
    "        return \"monocyte\"\n",
    "    elif(prediction == 3):\n",
    "        return \"neutrophil\""
   ]
  },
  {
   "cell_type": "code",
   "execution_count": null,
   "metadata": {
    "id": "Dp4TcVIj0sU9"
   },
   "outputs": [],
   "source": []
  },
  {
   "cell_type": "code",
   "execution_count": 52,
   "metadata": {
    "id": "f5H8i1GrFyi3"
   },
   "outputs": [],
   "source": []
  },
  {
   "cell_type": "code",
   "execution_count": null,
   "metadata": {
    "colab": {
     "base_uri": "https://localhost:8080/",
     "height": 268
    },
    "id": "G4DsN0G59Tzi",
    "outputId": "9aca3fca-f8e5-4de5-e31e-91f71598efa3"
   },
   "outputs": [],
   "source": []
  },
  {
   "cell_type": "code",
   "execution_count": 54,
   "metadata": {
    "id": "8kIIn28Z4iE3"
   },
   "outputs": [],
   "source": []
  },
  {
   "cell_type": "code",
   "execution_count": 55,
   "metadata": {
    "id": "0zdMuk_C-fhn"
   },
   "outputs": [],
   "source": []
  },
  {
   "cell_type": "code",
   "execution_count": null,
   "metadata": {
    "id": "yPFaFhNa9pg8"
   },
   "outputs": [],
   "source": []
  },
  {
   "cell_type": "code",
   "execution_count": null,
   "metadata": {},
   "outputs": [],
   "source": []
  },
  {
   "cell_type": "code",
   "execution_count": null,
   "metadata": {
    "colab": {
     "base_uri": "https://localhost:8080/"
    },
    "id": "604V32qr-E2B",
    "outputId": "87d41c6b-8830-4004-b199-cc7af4ecfaa0"
   },
   "outputs": [],
   "source": []
  },
  {
   "cell_type": "code",
   "execution_count": null,
   "metadata": {
    "id": "t7ci6r_F-2rJ"
   },
   "outputs": [],
   "source": []
  }
 ],
 "metadata": {
  "colab": {
   "collapsed_sections": [],
   "name": "prediction_file_blood_classification.ipynb",
   "provenance": []
  },
  "kernelspec": {
   "display_name": "Python 3",
   "language": "python",
   "name": "python3"
  },
  "language_info": {
   "codemirror_mode": {
    "name": "ipython",
    "version": 3
   },
   "file_extension": ".py",
   "mimetype": "text/x-python",
   "name": "python",
   "nbconvert_exporter": "python",
   "pygments_lexer": "ipython3",
   "version": "3.8.8"
  }
 },
 "nbformat": 4,
 "nbformat_minor": 1
}
